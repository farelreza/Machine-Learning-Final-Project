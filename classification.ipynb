{
  "cells": [
    {
      "cell_type": "code",
      "execution_count": null,
      "metadata": {
        "id": "3VjT3wZQ47Df"
      },
      "outputs": [],
      "source": [
        "# module untuk membaca dataset\n",
        "import pandas as pd\n",
        "\n",
        "# module untuk melakukan machine learning\n",
        "from sklearn.model_selection import train_test_split\n",
        "from sklearn.metrics import accuracy_score, confusion_matrix, classification_report\n",
        "from sklearn.naive_bayes import MultinomialNB\n",
        "from sklearn.ensemble import AdaBoostClassifier, RandomForestClassifier\n",
        "\n",
        "# module untuk membuat plot\n",
        "import matplotlib.pyplot as plt\n",
        "\n",
        "import numpy as np"
      ]
    },
    {
      "cell_type": "code",
      "execution_count": null,
      "metadata": {
        "id": "fCjoErzm47Dr",
        "outputId": "f3493e15-a834-4c88-9612-89ea7aa2dbaf"
      },
      "outputs": [
        {
          "data": {
            "text/html": [
              "<div>\n",
              "<style scoped>\n",
              "    .dataframe tbody tr th:only-of-type {\n",
              "        vertical-align: middle;\n",
              "    }\n",
              "\n",
              "    .dataframe tbody tr th {\n",
              "        vertical-align: top;\n",
              "    }\n",
              "\n",
              "    .dataframe thead th {\n",
              "        text-align: right;\n",
              "    }\n",
              "</style>\n",
              "<table border=\"1\" class=\"dataframe\">\n",
              "  <thead>\n",
              "    <tr style=\"text-align: right;\">\n",
              "      <th></th>\n",
              "      <th>Pregnancies</th>\n",
              "      <th>Glucose</th>\n",
              "      <th>BloodPressure</th>\n",
              "      <th>SkinThickness</th>\n",
              "      <th>Insulin</th>\n",
              "      <th>BMI</th>\n",
              "      <th>DiabetesPedigreeFunction</th>\n",
              "      <th>Age</th>\n",
              "      <th>Outcome</th>\n",
              "    </tr>\n",
              "  </thead>\n",
              "  <tbody>\n",
              "    <tr>\n",
              "      <th>0</th>\n",
              "      <td>2</td>\n",
              "      <td>105</td>\n",
              "      <td>62</td>\n",
              "      <td>35</td>\n",
              "      <td>39</td>\n",
              "      <td>33.6</td>\n",
              "      <td>0.127</td>\n",
              "      <td>47</td>\n",
              "      <td>0</td>\n",
              "    </tr>\n",
              "    <tr>\n",
              "      <th>1</th>\n",
              "      <td>0</td>\n",
              "      <td>112</td>\n",
              "      <td>82</td>\n",
              "      <td>31</td>\n",
              "      <td>55</td>\n",
              "      <td>38.2</td>\n",
              "      <td>0.233</td>\n",
              "      <td>23</td>\n",
              "      <td>0</td>\n",
              "    </tr>\n",
              "    <tr>\n",
              "      <th>2</th>\n",
              "      <td>0</td>\n",
              "      <td>106</td>\n",
              "      <td>0</td>\n",
              "      <td>0</td>\n",
              "      <td>95</td>\n",
              "      <td>44.2</td>\n",
              "      <td>0.630</td>\n",
              "      <td>31</td>\n",
              "      <td>0</td>\n",
              "    </tr>\n",
              "    <tr>\n",
              "      <th>3</th>\n",
              "      <td>0</td>\n",
              "      <td>48</td>\n",
              "      <td>68</td>\n",
              "      <td>42</td>\n",
              "      <td>294</td>\n",
              "      <td>42.3</td>\n",
              "      <td>0.365</td>\n",
              "      <td>24</td>\n",
              "      <td>1</td>\n",
              "    </tr>\n",
              "    <tr>\n",
              "      <th>4</th>\n",
              "      <td>1</td>\n",
              "      <td>89</td>\n",
              "      <td>62</td>\n",
              "      <td>41</td>\n",
              "      <td>128</td>\n",
              "      <td>40.7</td>\n",
              "      <td>0.536</td>\n",
              "      <td>21</td>\n",
              "      <td>1</td>\n",
              "    </tr>\n",
              "  </tbody>\n",
              "</table>\n",
              "</div>"
            ],
            "text/plain": [
              "   Pregnancies  Glucose  BloodPressure  SkinThickness  Insulin   BMI  \\\n",
              "0            2      105             62             35       39  33.6   \n",
              "1            0      112             82             31       55  38.2   \n",
              "2            0      106              0              0       95  44.2   \n",
              "3            0       48             68             42      294  42.3   \n",
              "4            1       89             62             41      128  40.7   \n",
              "\n",
              "   DiabetesPedigreeFunction  Age  Outcome  \n",
              "0                     0.127   47        0  \n",
              "1                     0.233   23        0  \n",
              "2                     0.630   31        0  \n",
              "3                     0.365   24        1  \n",
              "4                     0.536   21        1  "
            ]
          },
          "execution_count": 2,
          "metadata": {},
          "output_type": "execute_result"
        }
      ],
      "source": [
        "# membaca dataset menggunakan pandas\n",
        "\n",
        "df = pd.read_csv('hipoglikemia.csv')\n",
        "df.head()"
      ]
    },
    {
      "cell_type": "code",
      "execution_count": null,
      "metadata": {
        "id": "wFsSAWhl47Dv",
        "outputId": "34bffb62-1127-4e0c-c4cf-653a5761d293"
      },
      "outputs": [
        {
          "data": {
            "text/plain": [
              "Pregnancies                 0\n",
              "Glucose                     0\n",
              "BloodPressure               0\n",
              "SkinThickness               0\n",
              "Insulin                     0\n",
              "BMI                         0\n",
              "DiabetesPedigreeFunction    0\n",
              "Age                         0\n",
              "Outcome                     0\n",
              "dtype: int64"
            ]
          },
          "execution_count": 3,
          "metadata": {},
          "output_type": "execute_result"
        }
      ],
      "source": [
        "# mengecek nilai null pada dataset sebelum melakukan proses training\n",
        "# karena tidak ada data yang null maka bisa langsung melakukan proses training\n",
        "df.isnull().sum()"
      ]
    },
    {
      "cell_type": "code",
      "execution_count": null,
      "metadata": {
        "id": "FzsJPbZe47Dx",
        "outputId": "19b92c92-bf53-46a3-e871-9099c8e21b19"
      },
      "outputs": [
        {
          "data": {
            "text/plain": [
              "0    0\n",
              "1    0\n",
              "2    0\n",
              "3    1\n",
              "4    1\n",
              "Name: Outcome, dtype: int64"
            ]
          },
          "execution_count": 4,
          "metadata": {},
          "output_type": "execute_result"
        }
      ],
      "source": [
        "# menghapus kolom hasil dan menampilkannya = kelas y\n",
        "# menyimpan nilai label pada variable y dan menghapus kolom label pada data\n",
        "y = df.pop('Outcome')\n",
        "y.head()"
      ]
    },
    {
      "cell_type": "code",
      "execution_count": null,
      "metadata": {
        "id": "4uSCbNvn47Dz",
        "outputId": "e8e65538-abe9-4f84-9fc6-51584da930a4"
      },
      "outputs": [
        {
          "data": {
            "text/html": [
              "<div>\n",
              "<style scoped>\n",
              "    .dataframe tbody tr th:only-of-type {\n",
              "        vertical-align: middle;\n",
              "    }\n",
              "\n",
              "    .dataframe tbody tr th {\n",
              "        vertical-align: top;\n",
              "    }\n",
              "\n",
              "    .dataframe thead th {\n",
              "        text-align: right;\n",
              "    }\n",
              "</style>\n",
              "<table border=\"1\" class=\"dataframe\">\n",
              "  <thead>\n",
              "    <tr style=\"text-align: right;\">\n",
              "      <th></th>\n",
              "      <th>Pregnancies</th>\n",
              "      <th>Glucose</th>\n",
              "      <th>BloodPressure</th>\n",
              "      <th>SkinThickness</th>\n",
              "      <th>Insulin</th>\n",
              "      <th>BMI</th>\n",
              "      <th>DiabetesPedigreeFunction</th>\n",
              "      <th>Age</th>\n",
              "    </tr>\n",
              "  </thead>\n",
              "  <tbody>\n",
              "    <tr>\n",
              "      <th>0</th>\n",
              "      <td>2</td>\n",
              "      <td>105</td>\n",
              "      <td>62</td>\n",
              "      <td>35</td>\n",
              "      <td>39</td>\n",
              "      <td>33.6</td>\n",
              "      <td>0.127</td>\n",
              "      <td>47</td>\n",
              "    </tr>\n",
              "    <tr>\n",
              "      <th>1</th>\n",
              "      <td>0</td>\n",
              "      <td>112</td>\n",
              "      <td>82</td>\n",
              "      <td>31</td>\n",
              "      <td>55</td>\n",
              "      <td>38.2</td>\n",
              "      <td>0.233</td>\n",
              "      <td>23</td>\n",
              "    </tr>\n",
              "    <tr>\n",
              "      <th>2</th>\n",
              "      <td>0</td>\n",
              "      <td>106</td>\n",
              "      <td>0</td>\n",
              "      <td>0</td>\n",
              "      <td>95</td>\n",
              "      <td>44.2</td>\n",
              "      <td>0.630</td>\n",
              "      <td>31</td>\n",
              "    </tr>\n",
              "    <tr>\n",
              "      <th>3</th>\n",
              "      <td>0</td>\n",
              "      <td>48</td>\n",
              "      <td>68</td>\n",
              "      <td>42</td>\n",
              "      <td>294</td>\n",
              "      <td>42.3</td>\n",
              "      <td>0.365</td>\n",
              "      <td>24</td>\n",
              "    </tr>\n",
              "    <tr>\n",
              "      <th>4</th>\n",
              "      <td>1</td>\n",
              "      <td>89</td>\n",
              "      <td>62</td>\n",
              "      <td>41</td>\n",
              "      <td>128</td>\n",
              "      <td>40.7</td>\n",
              "      <td>0.536</td>\n",
              "      <td>21</td>\n",
              "    </tr>\n",
              "  </tbody>\n",
              "</table>\n",
              "</div>"
            ],
            "text/plain": [
              "   Pregnancies  Glucose  BloodPressure  SkinThickness  Insulin   BMI  \\\n",
              "0            2      105             62             35       39  33.6   \n",
              "1            0      112             82             31       55  38.2   \n",
              "2            0      106              0              0       95  44.2   \n",
              "3            0       48             68             42      294  42.3   \n",
              "4            1       89             62             41      128  40.7   \n",
              "\n",
              "   DiabetesPedigreeFunction  Age  \n",
              "0                     0.127   47  \n",
              "1                     0.233   23  \n",
              "2                     0.630   31  \n",
              "3                     0.365   24  \n",
              "4                     0.536   21  "
            ]
          },
          "execution_count": 5,
          "metadata": {},
          "output_type": "execute_result"
        }
      ],
      "source": [
        "# menyimpan nilai atribute pada variable X\n",
        "\n",
        "X = df\n",
        "X.head()"
      ]
    },
    {
      "cell_type": "code",
      "execution_count": null,
      "metadata": {
        "id": "DR-sNWo647D1",
        "outputId": "0605fbfd-b0ad-44d3-9a4c-7ed1132a110e"
      },
      "outputs": [
        {
          "name": "stdout",
          "output_type": "stream",
          "text": [
            "Jumlah kelas 0 = 1216\n",
            "Jumlah kelas 1 = 784\n"
          ]
        }
      ],
      "source": [
        "print('Jumlah kelas 0 =', np.count_nonzero(y == 0))\n",
        "print('Jumlah kelas 1 =', np.count_nonzero(y == 1))"
      ]
    },
    {
      "cell_type": "code",
      "execution_count": null,
      "metadata": {
        "id": "lmAz-81O47D3"
      },
      "outputs": [],
      "source": [
        "# from imblearn.over_sampling import SMOTE\n",
        "# x_resampled, y_resampled = SMOTE().fit_resample(X, y)"
      ]
    },
    {
      "cell_type": "code",
      "execution_count": null,
      "metadata": {
        "id": "PL8gF5Pq47D6"
      },
      "outputs": [],
      "source": [
        "# print('Jumlah kelas 0 =', np.count_nonzero(y_resampled == 0))\n",
        "# print('Jumlah kelas 1 =', np.count_nonzero(y_resampled == 1))"
      ]
    },
    {
      "cell_type": "code",
      "execution_count": null,
      "metadata": {
        "id": "oksB4wQJ47D7"
      },
      "outputs": [],
      "source": [
        "# random_state = 1\n",
        "\n",
        "# X_train, X_test, y_train, y_test = train_test_split(x_resampled, y_resampled, test_size=0.2, random_state=random_state)"
      ]
    },
    {
      "cell_type": "code",
      "execution_count": null,
      "metadata": {
        "id": "ck_IYFo147D9"
      },
      "outputs": [],
      "source": [
        "random_state = 1\n",
        "\n",
        "X_train, X_test, y_train, y_test = train_test_split(X, y, test_size=0.2, random_state=random_state)"
      ]
    },
    {
      "cell_type": "markdown",
      "metadata": {
        "id": "lj3Pghuc47EO"
      },
      "source": [
        "# AdaBoost"
      ]
    },
    {
      "cell_type": "code",
      "execution_count": null,
      "metadata": {
        "id": "aS3F4grG47EP"
      },
      "outputs": [],
      "source": [
        "abc_model = AdaBoostClassifier()"
      ]
    },
    {
      "cell_type": "code",
      "execution_count": null,
      "metadata": {
        "id": "36obp-KR47EP",
        "outputId": "09d17f14-d4d3-4112-fdbd-98581ad84570"
      },
      "outputs": [
        {
          "data": {
            "text/html": [
              "<style>#sk-container-id-2 {color: black;background-color: white;}#sk-container-id-2 pre{padding: 0;}#sk-container-id-2 div.sk-toggleable {background-color: white;}#sk-container-id-2 label.sk-toggleable__label {cursor: pointer;display: block;width: 100%;margin-bottom: 0;padding: 0.3em;box-sizing: border-box;text-align: center;}#sk-container-id-2 label.sk-toggleable__label-arrow:before {content: \"▸\";float: left;margin-right: 0.25em;color: #696969;}#sk-container-id-2 label.sk-toggleable__label-arrow:hover:before {color: black;}#sk-container-id-2 div.sk-estimator:hover label.sk-toggleable__label-arrow:before {color: black;}#sk-container-id-2 div.sk-toggleable__content {max-height: 0;max-width: 0;overflow: hidden;text-align: left;background-color: #f0f8ff;}#sk-container-id-2 div.sk-toggleable__content pre {margin: 0.2em;color: black;border-radius: 0.25em;background-color: #f0f8ff;}#sk-container-id-2 input.sk-toggleable__control:checked~div.sk-toggleable__content {max-height: 200px;max-width: 100%;overflow: auto;}#sk-container-id-2 input.sk-toggleable__control:checked~label.sk-toggleable__label-arrow:before {content: \"▾\";}#sk-container-id-2 div.sk-estimator input.sk-toggleable__control:checked~label.sk-toggleable__label {background-color: #d4ebff;}#sk-container-id-2 div.sk-label input.sk-toggleable__control:checked~label.sk-toggleable__label {background-color: #d4ebff;}#sk-container-id-2 input.sk-hidden--visually {border: 0;clip: rect(1px 1px 1px 1px);clip: rect(1px, 1px, 1px, 1px);height: 1px;margin: -1px;overflow: hidden;padding: 0;position: absolute;width: 1px;}#sk-container-id-2 div.sk-estimator {font-family: monospace;background-color: #f0f8ff;border: 1px dotted black;border-radius: 0.25em;box-sizing: border-box;margin-bottom: 0.5em;}#sk-container-id-2 div.sk-estimator:hover {background-color: #d4ebff;}#sk-container-id-2 div.sk-parallel-item::after {content: \"\";width: 100%;border-bottom: 1px solid gray;flex-grow: 1;}#sk-container-id-2 div.sk-label:hover label.sk-toggleable__label {background-color: #d4ebff;}#sk-container-id-2 div.sk-serial::before {content: \"\";position: absolute;border-left: 1px solid gray;box-sizing: border-box;top: 0;bottom: 0;left: 50%;z-index: 0;}#sk-container-id-2 div.sk-serial {display: flex;flex-direction: column;align-items: center;background-color: white;padding-right: 0.2em;padding-left: 0.2em;position: relative;}#sk-container-id-2 div.sk-item {position: relative;z-index: 1;}#sk-container-id-2 div.sk-parallel {display: flex;align-items: stretch;justify-content: center;background-color: white;position: relative;}#sk-container-id-2 div.sk-item::before, #sk-container-id-2 div.sk-parallel-item::before {content: \"\";position: absolute;border-left: 1px solid gray;box-sizing: border-box;top: 0;bottom: 0;left: 50%;z-index: -1;}#sk-container-id-2 div.sk-parallel-item {display: flex;flex-direction: column;z-index: 1;position: relative;background-color: white;}#sk-container-id-2 div.sk-parallel-item:first-child::after {align-self: flex-end;width: 50%;}#sk-container-id-2 div.sk-parallel-item:last-child::after {align-self: flex-start;width: 50%;}#sk-container-id-2 div.sk-parallel-item:only-child::after {width: 0;}#sk-container-id-2 div.sk-dashed-wrapped {border: 1px dashed gray;margin: 0 0.4em 0.5em 0.4em;box-sizing: border-box;padding-bottom: 0.4em;background-color: white;}#sk-container-id-2 div.sk-label label {font-family: monospace;font-weight: bold;display: inline-block;line-height: 1.2em;}#sk-container-id-2 div.sk-label-container {text-align: center;}#sk-container-id-2 div.sk-container {/* jupyter's `normalize.less` sets `[hidden] { display: none; }` but bootstrap.min.css set `[hidden] { display: none !important; }` so we also need the `!important` here to be able to override the default hidden behavior on the sphinx rendered scikit-learn.org. See: https://github.com/scikit-learn/scikit-learn/issues/21755 */display: inline-block !important;position: relative;}#sk-container-id-2 div.sk-text-repr-fallback {display: none;}</style><div id=\"sk-container-id-2\" class=\"sk-top-container\"><div class=\"sk-text-repr-fallback\"><pre>AdaBoostClassifier()</pre><b>In a Jupyter environment, please rerun this cell to show the HTML representation or trust the notebook. <br />On GitHub, the HTML representation is unable to render, please try loading this page with nbviewer.org.</b></div><div class=\"sk-container\" hidden><div class=\"sk-item\"><div class=\"sk-estimator sk-toggleable\"><input class=\"sk-toggleable__control sk-hidden--visually\" id=\"sk-estimator-id-2\" type=\"checkbox\" checked><label for=\"sk-estimator-id-2\" class=\"sk-toggleable__label sk-toggleable__label-arrow\">AdaBoostClassifier</label><div class=\"sk-toggleable__content\"><pre>AdaBoostClassifier()</pre></div></div></div></div></div>"
            ],
            "text/plain": [
              "AdaBoostClassifier()"
            ]
          },
          "execution_count": 21,
          "metadata": {},
          "output_type": "execute_result"
        }
      ],
      "source": [
        "# melakukan training pada data\n",
        "\n",
        "abc_model.fit(X_train, y_train)"
      ]
    },
    {
      "cell_type": "code",
      "execution_count": null,
      "metadata": {
        "id": "sdQe7oOm47EQ",
        "outputId": "808a4540-bad6-4648-90d3-b6324c10cc2f"
      },
      "outputs": [
        {
          "data": {
            "text/plain": [
              "array([1, 0, 0, ..., 0, 0, 1], dtype=int64)"
            ]
          },
          "execution_count": 22,
          "metadata": {},
          "output_type": "execute_result"
        }
      ],
      "source": [
        "# melakukan predict pada data testing\n",
        "\n",
        "y_pred = abc_model.predict(X_test)\n",
        "y_pred"
      ]
    },
    {
      "cell_type": "code",
      "execution_count": null,
      "metadata": {
        "id": "AH-bYwWL47ER",
        "outputId": "c34a1907-2b77-4320-b9dd-9a4dea4b3b3c"
      },
      "outputs": [
        {
          "data": {
            "text/plain": [
              "array([[1030,   49],\n",
              "       [  75,  646]], dtype=int64)"
            ]
          },
          "execution_count": 23,
          "metadata": {},
          "output_type": "execute_result"
        }
      ],
      "source": [
        "cm = confusion_matrix(y_test, y_pred)\n",
        "cm"
      ]
    },
    {
      "cell_type": "code",
      "execution_count": null,
      "metadata": {
        "id": "IowafFPl47ES",
        "outputId": "b4f5ea9d-a108-42ce-972b-91bfe22db529"
      },
      "outputs": [
        {
          "data": {
            "text/plain": [
              "0.9311111111111111"
            ]
          },
          "execution_count": 24,
          "metadata": {},
          "output_type": "execute_result"
        }
      ],
      "source": [
        "# melihat akurasi dari penggunaan data training dan testing untuk memprediksi data baru\n",
        "\n",
        "accuracy_score(y_test, y_pred)"
      ]
    },
    {
      "cell_type": "code",
      "execution_count": null,
      "metadata": {
        "id": "lE9K8-s247ES",
        "outputId": "94bd348a-d241-47f6-b1dd-dade5a46cef0"
      },
      "outputs": [
        {
          "name": "stdout",
          "output_type": "stream",
          "text": [
            "              precision    recall  f1-score   support\n",
            "\n",
            "           0       0.93      0.95      0.94      1079\n",
            "           1       0.93      0.90      0.91       721\n",
            "\n",
            "    accuracy                           0.93      1800\n",
            "   macro avg       0.93      0.93      0.93      1800\n",
            "weighted avg       0.93      0.93      0.93      1800\n",
            "\n"
          ]
        }
      ],
      "source": [
        "# mencetak hasil klasifikasi\n",
        "\n",
        "print(classification_report(y_test, y_pred))"
      ]
    },
    {
      "cell_type": "code",
      "execution_count": null,
      "metadata": {
        "id": "n0p9stSi47ET"
      },
      "outputs": [],
      "source": [
        "# test kinerja klasifikasi dengan AdaBoost berdasarkan test size\n",
        "\n",
        "def model_performance_adaBoost(test_size):\n",
        "\n",
        "    X_train, X_test, y_train, y_test = train_test_split(X, y, test_size=test_size, random_state=random_state)\n",
        "    \n",
        "    abc_model.fit(X_train,y_train)\n",
        "\n",
        "    y_pred = abc_model.predict(X_test)\n",
        "    \n",
        "    heading = str(test_size*100)+'%'\n",
        "    \n",
        "    print('\\n')\n",
        "    print('<--------------------- Sample test size '+ heading +' --------------------->')\n",
        "    \n",
        "    # akurasi\n",
        "    print('\\n')\n",
        "    print('Akurasi')\n",
        "    print('======================')\n",
        "    accuracy = accuracy_score(y_test, y_pred)\n",
        "    print(str(round(accuracy*100,2))+'%')\n",
        "            \n",
        "    print('\\n')\n",
        "    print('Confusion Matrix')\n",
        "    print('======================')\n",
        "    cm = confusion_matrix(y_test, y_pred)\n",
        "    print(cm)\n",
        "\n",
        "        \n",
        "    print('\\n')\n",
        "    print('Classification Report')\n",
        "    print('======================')\n",
        "    print(classification_report(y_test, y_pred))"
      ]
    },
    {
      "cell_type": "code",
      "execution_count": null,
      "metadata": {
        "id": "3WA68W6I47EU",
        "outputId": "d0f82280-6a7d-4c0a-e4cf-0a4c9e88de80"
      },
      "outputs": [
        {
          "name": "stdout",
          "output_type": "stream",
          "text": [
            "\n",
            "\n",
            "<--------------------- Sample test size 10.0% --------------------->\n",
            "\n",
            "\n",
            "Akurasi\n",
            "======================\n",
            "94.5%\n",
            "\n",
            "\n",
            "Confusion Matrix\n",
            "======================\n",
            "[[108   9]\n",
            " [  2  81]]\n",
            "\n",
            "\n",
            "Classification Report\n",
            "======================\n",
            "              precision    recall  f1-score   support\n",
            "\n",
            "           0       0.98      0.92      0.95       117\n",
            "           1       0.90      0.98      0.94        83\n",
            "\n",
            "    accuracy                           0.94       200\n",
            "   macro avg       0.94      0.95      0.94       200\n",
            "weighted avg       0.95      0.94      0.95       200\n",
            "\n",
            "\n",
            "\n",
            "<--------------------- Sample test size 20.0% --------------------->\n",
            "\n",
            "\n",
            "Akurasi\n",
            "======================\n",
            "93.75%\n",
            "\n",
            "\n",
            "Confusion Matrix\n",
            "======================\n",
            "[[223  12]\n",
            " [ 13 152]]\n",
            "\n",
            "\n",
            "Classification Report\n",
            "======================\n",
            "              precision    recall  f1-score   support\n",
            "\n",
            "           0       0.94      0.95      0.95       235\n",
            "           1       0.93      0.92      0.92       165\n",
            "\n",
            "    accuracy                           0.94       400\n",
            "   macro avg       0.94      0.94      0.94       400\n",
            "weighted avg       0.94      0.94      0.94       400\n",
            "\n",
            "\n",
            "\n",
            "<--------------------- Sample test size 30.0% --------------------->\n",
            "\n",
            "\n",
            "Akurasi\n",
            "======================\n",
            "93.5%\n",
            "\n",
            "\n",
            "Confusion Matrix\n",
            "======================\n",
            "[[329  18]\n",
            " [ 21 232]]\n",
            "\n",
            "\n",
            "Classification Report\n",
            "======================\n",
            "              precision    recall  f1-score   support\n",
            "\n",
            "           0       0.94      0.95      0.94       347\n",
            "           1       0.93      0.92      0.92       253\n",
            "\n",
            "    accuracy                           0.94       600\n",
            "   macro avg       0.93      0.93      0.93       600\n",
            "weighted avg       0.93      0.94      0.93       600\n",
            "\n",
            "\n",
            "\n",
            "<--------------------- Sample test size 40.0% --------------------->\n",
            "\n",
            "\n",
            "Akurasi\n",
            "======================\n",
            "94.25%\n",
            "\n",
            "\n",
            "Confusion Matrix\n",
            "======================\n",
            "[[441  26]\n",
            " [ 20 313]]\n",
            "\n",
            "\n",
            "Classification Report\n",
            "======================\n",
            "              precision    recall  f1-score   support\n",
            "\n",
            "           0       0.96      0.94      0.95       467\n",
            "           1       0.92      0.94      0.93       333\n",
            "\n",
            "    accuracy                           0.94       800\n",
            "   macro avg       0.94      0.94      0.94       800\n",
            "weighted avg       0.94      0.94      0.94       800\n",
            "\n",
            "\n",
            "\n",
            "<--------------------- Sample test size 50.0% --------------------->\n",
            "\n",
            "\n",
            "Akurasi\n",
            "======================\n",
            "92.7%\n",
            "\n",
            "\n",
            "Confusion Matrix\n",
            "======================\n",
            "[[537  39]\n",
            " [ 34 390]]\n",
            "\n",
            "\n",
            "Classification Report\n",
            "======================\n",
            "              precision    recall  f1-score   support\n",
            "\n",
            "           0       0.94      0.93      0.94       576\n",
            "           1       0.91      0.92      0.91       424\n",
            "\n",
            "    accuracy                           0.93      1000\n",
            "   macro avg       0.92      0.93      0.93      1000\n",
            "weighted avg       0.93      0.93      0.93      1000\n",
            "\n",
            "\n",
            "\n",
            "<--------------------- Sample test size 60.0% --------------------->\n",
            "\n",
            "\n",
            "Akurasi\n",
            "======================\n",
            "93.58%\n",
            "\n",
            "\n",
            "Confusion Matrix\n",
            "======================\n",
            "[[663  45]\n",
            " [ 32 460]]\n",
            "\n",
            "\n",
            "Classification Report\n",
            "======================\n",
            "              precision    recall  f1-score   support\n",
            "\n",
            "           0       0.95      0.94      0.95       708\n",
            "           1       0.91      0.93      0.92       492\n",
            "\n",
            "    accuracy                           0.94      1200\n",
            "   macro avg       0.93      0.94      0.93      1200\n",
            "weighted avg       0.94      0.94      0.94      1200\n",
            "\n",
            "\n",
            "\n",
            "<--------------------- Sample test size 70.0% --------------------->\n",
            "\n",
            "\n",
            "Akurasi\n",
            "======================\n",
            "92.21%\n",
            "\n",
            "\n",
            "Confusion Matrix\n",
            "======================\n",
            "[[777  52]\n",
            " [ 57 514]]\n",
            "\n",
            "\n",
            "Classification Report\n",
            "======================\n",
            "              precision    recall  f1-score   support\n",
            "\n",
            "           0       0.93      0.94      0.93       829\n",
            "           1       0.91      0.90      0.90       571\n",
            "\n",
            "    accuracy                           0.92      1400\n",
            "   macro avg       0.92      0.92      0.92      1400\n",
            "weighted avg       0.92      0.92      0.92      1400\n",
            "\n",
            "\n",
            "\n",
            "<--------------------- Sample test size 80.0% --------------------->\n",
            "\n",
            "\n",
            "Akurasi\n",
            "======================\n",
            "93.19%\n",
            "\n",
            "\n",
            "Confusion Matrix\n",
            "======================\n",
            "[[908  56]\n",
            " [ 53 583]]\n",
            "\n",
            "\n",
            "Classification Report\n",
            "======================\n",
            "              precision    recall  f1-score   support\n",
            "\n",
            "           0       0.94      0.94      0.94       964\n",
            "           1       0.91      0.92      0.91       636\n",
            "\n",
            "    accuracy                           0.93      1600\n",
            "   macro avg       0.93      0.93      0.93      1600\n",
            "weighted avg       0.93      0.93      0.93      1600\n",
            "\n",
            "\n",
            "\n",
            "<--------------------- Sample test size 90.0% --------------------->\n",
            "\n",
            "\n",
            "Akurasi\n",
            "======================\n",
            "93.11%\n",
            "\n",
            "\n",
            "Confusion Matrix\n",
            "======================\n",
            "[[1030   49]\n",
            " [  75  646]]\n",
            "\n",
            "\n",
            "Classification Report\n",
            "======================\n",
            "              precision    recall  f1-score   support\n",
            "\n",
            "           0       0.93      0.95      0.94      1079\n",
            "           1       0.93      0.90      0.91       721\n",
            "\n",
            "    accuracy                           0.93      1800\n",
            "   macro avg       0.93      0.93      0.93      1800\n",
            "weighted avg       0.93      0.93      0.93      1800\n",
            "\n"
          ]
        }
      ],
      "source": [
        "# analisa hasil penggunaan test size dengan mengambil nilai akurasi & performa klasifikasi dari ukuran test size\n",
        "\n",
        "# cetak hasil performa klasifikasi dengan sampel datasize 10% - 90%\n",
        "def print_performance():\n",
        "    for i in range(1,10):\n",
        "        value = round(i*0.1, 1)\n",
        "        # value = 0.1, 0.2, 0.3, ...., 0.9\n",
        "        model_performance_adaBoost(value)\n",
        "\n",
        "print_performance()"
      ]
    },
    {
      "cell_type": "code",
      "execution_count": null,
      "metadata": {
        "id": "eMoMjR2z47EV",
        "outputId": "ac87638d-70ac-4e7a-ca83-28c0eac4dd1f"
      },
      "outputs": [
        {
          "data": {
            "image/png": "[encoded data removed]",
            "text/plain": [
              "<Figure size 432x288 with 1 Axes>"
            ]
          },
          "metadata": {
            "needs_background": "light"
          },
          "output_type": "display_data"
        }
      ],
      "source": [
        "data_test_size = []\n",
        "data_akurasi = []\n",
        "\n",
        "for i in range(1,10):\n",
        "    test_size = round(i*0.1, 1)\n",
        "    X_train, X_test, y_train, y_test = train_test_split(X, y, test_size=test_size, random_state=random_state)\n",
        "    abc_model.fit(X_train,y_train)\n",
        "    y_pred = abc_model.predict(X_test)\n",
        "    accuracy = accuracy_score(y_test, y_pred)\n",
        "    data_akurasi.append(round(accuracy*100, 2))\n",
        "    data_test_size.append(str(round(test_size*100, 2))+'%')\n",
        "    \n",
        "\n",
        "plot = plt.bar(data_test_size, data_akurasi)\n",
        "\n",
        "for value in plot:\n",
        "    height = value.get_height()\n",
        "    plt.text(value.get_x() + value.get_width()/2.,\n",
        "        1.002*height,'%d' % int(height), ha='center', va='bottom')\n",
        "    \n",
        "plt.title(\"Akurasi berdasarkan test size (AdaBoost)\")\n",
        "plt.xlabel(\"Size Data Testing\")\n",
        "plt.ylabel(\"Akurasi\")\n",
        "plt.xticks(rotation=45)\n",
        "\n",
        "# menampilkan plot\n",
        "plt.show()"
      ]
    },
    {
      "cell_type": "markdown",
      "metadata": {
        "id": "hh8kzSe347EW"
      },
      "source": [
        "# Random Forest"
      ]
    },
    {
      "cell_type": "code",
      "execution_count": null,
      "metadata": {
        "id": "BohaUHty47EW"
      },
      "outputs": [],
      "source": [
        "rfc_model = RandomForestClassifier(max_depth=2, random_state=0)"
      ]
    },
    {
      "cell_type": "code",
      "execution_count": null,
      "metadata": {
        "id": "4uXdhkny47EX",
        "outputId": "912f6a54-dac1-4805-88e1-43fba3b37e86"
      },
      "outputs": [
        {
          "data": {
            "text/html": [
              "<style>#sk-container-id-3 {color: black;background-color: white;}#sk-container-id-3 pre{padding: 0;}#sk-container-id-3 div.sk-toggleable {background-color: white;}#sk-container-id-3 label.sk-toggleable__label {cursor: pointer;display: block;width: 100%;margin-bottom: 0;padding: 0.3em;box-sizing: border-box;text-align: center;}#sk-container-id-3 label.sk-toggleable__label-arrow:before {content: \"▸\";float: left;margin-right: 0.25em;color: #696969;}#sk-container-id-3 label.sk-toggleable__label-arrow:hover:before {color: black;}#sk-container-id-3 div.sk-estimator:hover label.sk-toggleable__label-arrow:before {color: black;}#sk-container-id-3 div.sk-toggleable__content {max-height: 0;max-width: 0;overflow: hidden;text-align: left;background-color: #f0f8ff;}#sk-container-id-3 div.sk-toggleable__content pre {margin: 0.2em;color: black;border-radius: 0.25em;background-color: #f0f8ff;}#sk-container-id-3 input.sk-toggleable__control:checked~div.sk-toggleable__content {max-height: 200px;max-width: 100%;overflow: auto;}#sk-container-id-3 input.sk-toggleable__control:checked~label.sk-toggleable__label-arrow:before {content: \"▾\";}#sk-container-id-3 div.sk-estimator input.sk-toggleable__control:checked~label.sk-toggleable__label {background-color: #d4ebff;}#sk-container-id-3 div.sk-label input.sk-toggleable__control:checked~label.sk-toggleable__label {background-color: #d4ebff;}#sk-container-id-3 input.sk-hidden--visually {border: 0;clip: rect(1px 1px 1px 1px);clip: rect(1px, 1px, 1px, 1px);height: 1px;margin: -1px;overflow: hidden;padding: 0;position: absolute;width: 1px;}#sk-container-id-3 div.sk-estimator {font-family: monospace;background-color: #f0f8ff;border: 1px dotted black;border-radius: 0.25em;box-sizing: border-box;margin-bottom: 0.5em;}#sk-container-id-3 div.sk-estimator:hover {background-color: #d4ebff;}#sk-container-id-3 div.sk-parallel-item::after {content: \"\";width: 100%;border-bottom: 1px solid gray;flex-grow: 1;}#sk-container-id-3 div.sk-label:hover label.sk-toggleable__label {background-color: #d4ebff;}#sk-container-id-3 div.sk-serial::before {content: \"\";position: absolute;border-left: 1px solid gray;box-sizing: border-box;top: 0;bottom: 0;left: 50%;z-index: 0;}#sk-container-id-3 div.sk-serial {display: flex;flex-direction: column;align-items: center;background-color: white;padding-right: 0.2em;padding-left: 0.2em;position: relative;}#sk-container-id-3 div.sk-item {position: relative;z-index: 1;}#sk-container-id-3 div.sk-parallel {display: flex;align-items: stretch;justify-content: center;background-color: white;position: relative;}#sk-container-id-3 div.sk-item::before, #sk-container-id-3 div.sk-parallel-item::before {content: \"\";position: absolute;border-left: 1px solid gray;box-sizing: border-box;top: 0;bottom: 0;left: 50%;z-index: -1;}#sk-container-id-3 div.sk-parallel-item {display: flex;flex-direction: column;z-index: 1;position: relative;background-color: white;}#sk-container-id-3 div.sk-parallel-item:first-child::after {align-self: flex-end;width: 50%;}#sk-container-id-3 div.sk-parallel-item:last-child::after {align-self: flex-start;width: 50%;}#sk-container-id-3 div.sk-parallel-item:only-child::after {width: 0;}#sk-container-id-3 div.sk-dashed-wrapped {border: 1px dashed gray;margin: 0 0.4em 0.5em 0.4em;box-sizing: border-box;padding-bottom: 0.4em;background-color: white;}#sk-container-id-3 div.sk-label label {font-family: monospace;font-weight: bold;display: inline-block;line-height: 1.2em;}#sk-container-id-3 div.sk-label-container {text-align: center;}#sk-container-id-3 div.sk-container {/* jupyter's `normalize.less` sets `[hidden] { display: none; }` but bootstrap.min.css set `[hidden] { display: none !important; }` so we also need the `!important` here to be able to override the default hidden behavior on the sphinx rendered scikit-learn.org. See: https://github.com/scikit-learn/scikit-learn/issues/21755 */display: inline-block !important;position: relative;}#sk-container-id-3 div.sk-text-repr-fallback {display: none;}</style><div id=\"sk-container-id-3\" class=\"sk-top-container\"><div class=\"sk-text-repr-fallback\"><pre>RandomForestClassifier(max_depth=2, random_state=0)</pre><b>In a Jupyter environment, please rerun this cell to show the HTML representation or trust the notebook. <br />On GitHub, the HTML representation is unable to render, please try loading this page with nbviewer.org.</b></div><div class=\"sk-container\" hidden><div class=\"sk-item\"><div class=\"sk-estimator sk-toggleable\"><input class=\"sk-toggleable__control sk-hidden--visually\" id=\"sk-estimator-id-3\" type=\"checkbox\" checked><label for=\"sk-estimator-id-3\" class=\"sk-toggleable__label sk-toggleable__label-arrow\">RandomForestClassifier</label><div class=\"sk-toggleable__content\"><pre>RandomForestClassifier(max_depth=2, random_state=0)</pre></div></div></div></div></div>"
            ],
            "text/plain": [
              "RandomForestClassifier(max_depth=2, random_state=0)"
            ]
          },
          "execution_count": 30,
          "metadata": {},
          "output_type": "execute_result"
        }
      ],
      "source": [
        "# melakukan training pada data\n",
        "\n",
        "rfc_model.fit(X_train, y_train)"
      ]
    },
    {
      "cell_type": "code",
      "execution_count": null,
      "metadata": {
        "id": "h8I1K-Cg47EX",
        "outputId": "55a0ea45-9ebb-4431-f99b-c7a380bf02fe"
      },
      "outputs": [
        {
          "data": {
            "text/plain": [
              "array([1, 0, 0, ..., 0, 0, 1], dtype=int64)"
            ]
          },
          "execution_count": 31,
          "metadata": {},
          "output_type": "execute_result"
        }
      ],
      "source": [
        "# melakukan predict pada data testing\n",
        "\n",
        "y_pred = rfc_model.predict(X_test)\n",
        "y_pred"
      ]
    },
    {
      "cell_type": "code",
      "execution_count": null,
      "metadata": {
        "id": "f_f0kzvw47EY",
        "outputId": "2652070c-3edf-4b01-8baa-954476ff3ec6"
      },
      "outputs": [
        {
          "data": {
            "text/plain": [
              "array([[1062,   17],\n",
              "       [ 110,  611]], dtype=int64)"
            ]
          },
          "execution_count": 32,
          "metadata": {},
          "output_type": "execute_result"
        }
      ],
      "source": [
        "cm = confusion_matrix(y_test, y_pred)\n",
        "cm"
      ]
    },
    {
      "cell_type": "code",
      "execution_count": null,
      "metadata": {
        "id": "s4qYKUme47EZ",
        "outputId": "24e98363-2544-4a25-a26f-b32bba7c14a9"
      },
      "outputs": [
        {
          "data": {
            "text/plain": [
              "0.9294444444444444"
            ]
          },
          "execution_count": 33,
          "metadata": {},
          "output_type": "execute_result"
        }
      ],
      "source": [
        "# melihat akurasi dari penggunaan data training dan testing untuk memprediksi data baru\n",
        "\n",
        "accuracy_score(y_test, y_pred)"
      ]
    },
    {
      "cell_type": "code",
      "execution_count": null,
      "metadata": {
        "id": "-hccK0bA47EZ",
        "outputId": "70d57a39-e772-42a8-a9ef-2960e3b3165d"
      },
      "outputs": [
        {
          "name": "stdout",
          "output_type": "stream",
          "text": [
            "              precision    recall  f1-score   support\n",
            "\n",
            "           0       0.91      0.98      0.94      1079\n",
            "           1       0.97      0.85      0.91       721\n",
            "\n",
            "    accuracy                           0.93      1800\n",
            "   macro avg       0.94      0.92      0.92      1800\n",
            "weighted avg       0.93      0.93      0.93      1800\n",
            "\n"
          ]
        }
      ],
      "source": [
        "# mencetak hasil klasifikasi\n",
        "\n",
        "print(classification_report(y_test, y_pred))"
      ]
    },
    {
      "cell_type": "code",
      "execution_count": null,
      "metadata": {
        "id": "vGHslqOY47Ea"
      },
      "outputs": [],
      "source": [
        "# test kinerja klasifikasi dengan Random Forest berdasarkan test size\n",
        "\n",
        "def model_performance_randomForest(test_size):\n",
        "\n",
        "    X_train, X_test, y_train, y_test = train_test_split(X, y, test_size=test_size, random_state=random_state)\n",
        "    \n",
        "    rfc_model.fit(X_train,y_train)\n",
        "\n",
        "    y_pred = rfc_model.predict(X_test)\n",
        "    \n",
        "    heading = str(test_size*100)+'%'\n",
        "    \n",
        "    print('\\n')\n",
        "    print('<--------------------- Sample test size '+ heading +' --------------------->')\n",
        "    \n",
        "    # akurasi\n",
        "    print('\\n')\n",
        "    print('Akurasi')\n",
        "    print('======================')\n",
        "    accuracy = accuracy_score(y_test, y_pred)\n",
        "    print(str(round(accuracy*100,2))+'%')\n",
        "            \n",
        "    print('\\n')\n",
        "    print('Confusion Matrix')\n",
        "    print('======================')\n",
        "    cm = confusion_matrix(y_test, y_pred)\n",
        "    print(cm)\n",
        "\n",
        "        \n",
        "    print('\\n')\n",
        "    print('Classification Report')\n",
        "    print('======================')\n",
        "    print(classification_report(y_test, y_pred))"
      ]
    },
    {
      "cell_type": "code",
      "execution_count": null,
      "metadata": {
        "id": "RTTOdImn47Eb",
        "outputId": "33f89278-7abc-4d7c-f237-ad538dce3269"
      },
      "outputs": [
        {
          "name": "stdout",
          "output_type": "stream",
          "text": [
            "\n",
            "\n",
            "<--------------------- Sample test size 10.0% --------------------->\n",
            "\n",
            "\n",
            "Akurasi\n",
            "======================\n",
            "93.5%\n",
            "\n",
            "\n",
            "Confusion Matrix\n",
            "======================\n",
            "[[117   0]\n",
            " [ 13  70]]\n",
            "\n",
            "\n",
            "Classification Report\n",
            "======================\n",
            "              precision    recall  f1-score   support\n",
            "\n",
            "           0       0.90      1.00      0.95       117\n",
            "           1       1.00      0.84      0.92        83\n",
            "\n",
            "    accuracy                           0.94       200\n",
            "   macro avg       0.95      0.92      0.93       200\n",
            "weighted avg       0.94      0.94      0.93       200\n",
            "\n",
            "\n",
            "\n",
            "<--------------------- Sample test size 20.0% --------------------->\n",
            "\n",
            "\n",
            "Akurasi\n",
            "======================\n",
            "92.0%\n",
            "\n",
            "\n",
            "Confusion Matrix\n",
            "======================\n",
            "[[232   3]\n",
            " [ 29 136]]\n",
            "\n",
            "\n",
            "Classification Report\n",
            "======================\n",
            "              precision    recall  f1-score   support\n",
            "\n",
            "           0       0.89      0.99      0.94       235\n",
            "           1       0.98      0.82      0.89       165\n",
            "\n",
            "    accuracy                           0.92       400\n",
            "   macro avg       0.93      0.91      0.92       400\n",
            "weighted avg       0.93      0.92      0.92       400\n",
            "\n",
            "\n",
            "\n",
            "<--------------------- Sample test size 30.0% --------------------->\n",
            "\n",
            "\n",
            "Akurasi\n",
            "======================\n",
            "91.33%\n",
            "\n",
            "\n",
            "Confusion Matrix\n",
            "======================\n",
            "[[342   5]\n",
            " [ 47 206]]\n",
            "\n",
            "\n",
            "Classification Report\n",
            "======================\n",
            "              precision    recall  f1-score   support\n",
            "\n",
            "           0       0.88      0.99      0.93       347\n",
            "           1       0.98      0.81      0.89       253\n",
            "\n",
            "    accuracy                           0.91       600\n",
            "   macro avg       0.93      0.90      0.91       600\n",
            "weighted avg       0.92      0.91      0.91       600\n",
            "\n",
            "\n",
            "\n",
            "<--------------------- Sample test size 40.0% --------------------->\n",
            "\n",
            "\n",
            "Akurasi\n",
            "======================\n",
            "92.88%\n",
            "\n",
            "\n",
            "Confusion Matrix\n",
            "======================\n",
            "[[461   6]\n",
            " [ 51 282]]\n",
            "\n",
            "\n",
            "Classification Report\n",
            "======================\n",
            "              precision    recall  f1-score   support\n",
            "\n",
            "           0       0.90      0.99      0.94       467\n",
            "           1       0.98      0.85      0.91       333\n",
            "\n",
            "    accuracy                           0.93       800\n",
            "   macro avg       0.94      0.92      0.92       800\n",
            "weighted avg       0.93      0.93      0.93       800\n",
            "\n",
            "\n",
            "\n",
            "<--------------------- Sample test size 50.0% --------------------->\n",
            "\n",
            "\n",
            "Akurasi\n",
            "======================\n",
            "91.9%\n",
            "\n",
            "\n",
            "Confusion Matrix\n",
            "======================\n",
            "[[567   9]\n",
            " [ 72 352]]\n",
            "\n",
            "\n",
            "Classification Report\n",
            "======================\n",
            "              precision    recall  f1-score   support\n",
            "\n",
            "           0       0.89      0.98      0.93       576\n",
            "           1       0.98      0.83      0.90       424\n",
            "\n",
            "    accuracy                           0.92      1000\n",
            "   macro avg       0.93      0.91      0.92      1000\n",
            "weighted avg       0.92      0.92      0.92      1000\n",
            "\n",
            "\n",
            "\n",
            "<--------------------- Sample test size 60.0% --------------------->\n",
            "\n",
            "\n",
            "Akurasi\n",
            "======================\n",
            "92.17%\n",
            "\n",
            "\n",
            "Confusion Matrix\n",
            "======================\n",
            "[[697  11]\n",
            " [ 83 409]]\n",
            "\n",
            "\n",
            "Classification Report\n",
            "======================\n",
            "              precision    recall  f1-score   support\n",
            "\n",
            "           0       0.89      0.98      0.94       708\n",
            "           1       0.97      0.83      0.90       492\n",
            "\n",
            "    accuracy                           0.92      1200\n",
            "   macro avg       0.93      0.91      0.92      1200\n",
            "weighted avg       0.93      0.92      0.92      1200\n",
            "\n",
            "\n",
            "\n",
            "<--------------------- Sample test size 70.0% --------------------->\n",
            "\n",
            "\n",
            "Akurasi\n",
            "======================\n",
            "92.07%\n",
            "\n",
            "\n",
            "Confusion Matrix\n",
            "======================\n",
            "[[816  13]\n",
            " [ 98 473]]\n",
            "\n",
            "\n",
            "Classification Report\n",
            "======================\n",
            "              precision    recall  f1-score   support\n",
            "\n",
            "           0       0.89      0.98      0.94       829\n",
            "           1       0.97      0.83      0.89       571\n",
            "\n",
            "    accuracy                           0.92      1400\n",
            "   macro avg       0.93      0.91      0.92      1400\n",
            "weighted avg       0.93      0.92      0.92      1400\n",
            "\n",
            "\n",
            "\n",
            "<--------------------- Sample test size 80.0% --------------------->\n",
            "\n",
            "\n",
            "Akurasi\n",
            "======================\n",
            "92.19%\n",
            "\n",
            "\n",
            "Confusion Matrix\n",
            "======================\n",
            "[[950  14]\n",
            " [111 525]]\n",
            "\n",
            "\n",
            "Classification Report\n",
            "======================\n",
            "              precision    recall  f1-score   support\n",
            "\n",
            "           0       0.90      0.99      0.94       964\n",
            "           1       0.97      0.83      0.89       636\n",
            "\n",
            "    accuracy                           0.92      1600\n",
            "   macro avg       0.93      0.91      0.92      1600\n",
            "weighted avg       0.93      0.92      0.92      1600\n",
            "\n",
            "\n",
            "\n",
            "<--------------------- Sample test size 90.0% --------------------->\n",
            "\n",
            "\n",
            "Akurasi\n",
            "======================\n",
            "92.94%\n",
            "\n",
            "\n",
            "Confusion Matrix\n",
            "======================\n",
            "[[1062   17]\n",
            " [ 110  611]]\n",
            "\n",
            "\n",
            "Classification Report\n",
            "======================\n",
            "              precision    recall  f1-score   support\n",
            "\n",
            "           0       0.91      0.98      0.94      1079\n",
            "           1       0.97      0.85      0.91       721\n",
            "\n",
            "    accuracy                           0.93      1800\n",
            "   macro avg       0.94      0.92      0.92      1800\n",
            "weighted avg       0.93      0.93      0.93      1800\n",
            "\n"
          ]
        }
      ],
      "source": [
        "# analisa hasil penggunaan test size dengan mengambil nilai akurasi & performa klasifikasi dari ukuran test size\n",
        "\n",
        "# cetak hasil performa klasifikasi dengan sampel datasize 10% - 90%\n",
        "def print_performance():\n",
        "    for i in range(1,10):\n",
        "        value = round(i*0.1, 1)\n",
        "        # value = 0.1, 0.2, 0.3, ...., 0.9\n",
        "        model_performance_randomForest(value)\n",
        "\n",
        "print_performance()"
      ]
    },
    {
      "cell_type": "code",
      "execution_count": null,
      "metadata": {
        "id": "n1BfY3I647Eb",
        "outputId": "80d96cf4-77fe-4794-9aba-ca33811b7201"
      },
      "outputs": [
        {
          "data": {
            "image/png": "[encoded data removed]",
            "text/plain": [
              "<Figure size 432x288 with 1 Axes>"
            ]
          },
          "metadata": {
            "needs_background": "light"
          },
          "output_type": "display_data"
        }
      ],
      "source": [
        "data_test_size = []\n",
        "data_akurasi = []\n",
        "\n",
        "for i in range(1,10):\n",
        "    test_size = round(i*0.1, 1)\n",
        "    X_train, X_test, y_train, y_test = train_test_split(X, y, test_size=test_size, random_state=random_state)\n",
        "    rfc_model.fit(X_train,y_train)\n",
        "    y_pred = rfc_model.predict(X_test)\n",
        "    accuracy = accuracy_score(y_test, y_pred)\n",
        "    data_akurasi.append(round(accuracy*100, 2))\n",
        "    data_test_size.append(str(round(test_size*100, 2))+'%')\n",
        "\n",
        "\n",
        "plot = plt.bar(data_test_size, data_akurasi)\n",
        "\n",
        "for value in plot:\n",
        "    height = value.get_height()\n",
        "    plt.text(value.get_x() + value.get_width()/2.,\n",
        "        1.002*height,'%d' % int(height), ha='center', va='bottom')\n",
        "    \n",
        "plt.title(\"Akurasi berdasarkan test size (Random Forest)\")\n",
        "plt.xlabel(\"Size Data Testing\")\n",
        "plt.ylabel(\"Akurasi\")\n",
        "plt.xticks(rotation=45)\n",
        "\n",
        "# menampilkan plot\n",
        "plt.show()"
      ]
    },
    {
      "cell_type": "code",
      "execution_count": null,
      "metadata": {
        "id": "07sSaUDg47Ec",
        "outputId": "cbfa7b04-522a-4675-acec-00528a3acb5c"
      },
      "outputs": [
        {
          "data": {
            "image/png": "[encoded data removed]",
            "text/plain": [
              "<Figure size 432x288 with 1 Axes>"
            ]
          },
          "metadata": {
            "needs_background": "light"
          },
          "output_type": "display_data"
        }
      ],
      "source": [
        "import matplotlib.pyplot as plt\n",
        "\n",
        "data_acc_adaBoost = []\n",
        "data_acc_randomForest = []\n",
        "data_test_size = []\n",
        "\n",
        "for i in range(1,10):\n",
        "  test_size = round(i*0.1, 1)\n",
        "  X_train, X_test, y_train, y_test = train_test_split(X, y, test_size=test_size, random_state=random_state)\n",
        "  \n",
        "  abc_model.fit(X_train,y_train)\n",
        "  y_pred = abc_model.predict(X_test)\n",
        "  accuracy = accuracy_score(y_test, y_pred)\n",
        "  data_acc_adaBoost.append(round(accuracy*100, 2))\n",
        "  \n",
        "  rfc_model.fit(X_train,y_train)\n",
        "  y_pred = rfc_model.predict(X_test)\n",
        "  accuracy = accuracy_score(y_test, y_pred)\n",
        "  data_acc_randomForest.append(round(accuracy*100, 2))\n",
        "  \n",
        "  data_test_size.append(str(round(test_size*100, 2))+'%')\n",
        "\n",
        "plt.plot(data_acc_adaBoost, label='AdaBoost')\n",
        "plt.plot(data_acc_randomForest, label='Random Forest')\n",
        "\n",
        "plt.legend()\n",
        "plt.show()"
      ]
    }
  ],
  "metadata": {
    "interpreter": {
      "hash": "9650cb4e16cdd4a8e8e2d128bf38d875813998db22a3c986335f89e0cb4d7bb2"
    },
    "kernelspec": {
      "display_name": "Python 3.8.3 64-bit",
      "language": "python",
      "name": "python3"
    },
    "language_info": {
      "codemirror_mode": {
        "name": "ipython",
        "version": 3
      },
      "file_extension": ".py",
      "mimetype": "text/x-python",
      "name": "python",
      "nbconvert_exporter": "python",
      "pygments_lexer": "ipython3",
      "version": "3.8.3"
    },
    "orig_nbformat": 4,
    "colab": {
      "name": "classification.ipynb",
      "provenance": []
    }
  },
  "nbformat": 4,
  "nbformat_minor": 0
}